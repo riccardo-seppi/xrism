{
 "cells": [
  {
   "cell_type": "code",
   "execution_count": 1,
   "id": "40e52090",
   "metadata": {},
   "outputs": [],
   "source": [
    "import sys, os\n",
    "import numpy as np\n",
    "sys.path.append('/home/riccardo/xrism')\n",
    "from xrism_mock import XRISMmock\n",
    "from xrism_mock import helper"
   ]
  },
  {
   "cell_type": "code",
   "execution_count": 2,
   "id": "293fdbd9",
   "metadata": {},
   "outputs": [
    {
     "name": "stdout",
     "output_type": "stream",
     "text": [
      "/home/riccardo/xrism/A1689/Attitude_test.fits already exists!\n"
     ]
    }
   ],
   "source": [
    "#create attitude file\n",
    "p2att = '/home/riccardo/xrism/A1689/Attitude_test.fits'\n",
    "time = np.array([0., 2e5])\n",
    "ra = np.array([197.87233, 197.87233])\n",
    "dec = np.array([-1.341345, -1.341345])\n",
    "roll = np.array([150., 150.])\n",
    "tstart = 0\n",
    "tstop = 2e5\n",
    "#mjdref = helper.get_MJD_from_date(datetime.utcnow())\n",
    "mjdref = 60395.38870714722\n",
    "helper.create_attitude(p2att=p2att, time=time, ra=ra, dec=dec, roll=roll,\n",
    "                       tstart=tstart, tstop=tstop, mjdref=mjdref)"
   ]
  },
  {
   "cell_type": "code",
   "execution_count": 3,
   "id": "1591edb6",
   "metadata": {},
   "outputs": [
    {
     "name": "stdout",
     "output_type": "stream",
     "text": [
      "Using /home/riccardo/xrism/A1689/sixte_files/1comp/A16891comp.xcm\n",
      "Using /home/riccardo/xrism/A1689/data/csm_sb_cropR500.fits\n",
      "Using /home/riccardo/xrism/A1689/Attitude_test.fits\n",
      "/home/riccardo/xrism/A1689/sixte_files/1comp/A1689_evts_resolve_attitude.fits already exists!\n"
     ]
    }
   ],
   "source": [
    "basedir='/home/riccardo/xrism/A1689'\n",
    "XSPECFile = os.path.join(basedir, 'sixte_files/1comp/A16891comp.xcm')\n",
    "IMGFile = os.path.join(basedir, 'data/csm_sb_cropR500.fits')\n",
    "Flux = 9.92495883e-12\n",
    "p2simput = os.path.join(basedir, 'sixte_files/1comp/A1689.simput')\n",
    "\n",
    "A1689 = XRISMmock.XRISM_source(name = 'A1689', RA_src=197.867750, DEC_src=-1.313722,\n",
    "    XSPECFile=XSPECFile, IMGFile=IMGFile, Flux=Flux, p2simput=p2simput,\n",
    "    Emin_flux=0.5, Emax_flux=2.0, Emin_spec=0.1, Emax_spec=30, attitude=p2att\n",
    "    )\n",
    "\n",
    "RA_pnt = 197.87233\n",
    "DEC_pnt = -1.341345\n",
    "texp = 2e5 #200ks\n",
    "p2evt_resolve = os.path.join(basedir, 'sixte_files/1comp/A1689_evts_resolve_attitude.fits')\n",
    "A1689.runSIXTE_resolve_attitude(p2evt_resolve, RA_pnt, DEC_pnt, texp, mjdref=mjdref)\n"
   ]
  },
  {
   "cell_type": "code",
   "execution_count": null,
   "id": "4c52a4db",
   "metadata": {},
   "outputs": [],
   "source": []
  }
 ],
 "metadata": {
  "kernelspec": {
   "display_name": "Python 3 (ipykernel)",
   "language": "python",
   "name": "python3"
  },
  "language_info": {
   "codemirror_mode": {
    "name": "ipython",
    "version": 3
   },
   "file_extension": ".py",
   "mimetype": "text/x-python",
   "name": "python",
   "nbconvert_exporter": "python",
   "pygments_lexer": "ipython3",
   "version": "3.11.5"
  }
 },
 "nbformat": 4,
 "nbformat_minor": 5
}
